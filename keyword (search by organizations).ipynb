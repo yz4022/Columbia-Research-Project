{
 "cells": [
  {
   "cell_type": "code",
   "execution_count": 13,
   "metadata": {},
   "outputs": [
    {
     "name": "stdout",
     "output_type": "stream",
     "text": [
      "Keyword: money laundering\n",
      "Which company would you like to search UBS\n"
     ]
    }
   ],
   "source": [
    "import requests\n",
    "from bs4 import BeautifulSoup\n",
    "import os.path\n",
    "\n",
    "\n",
    "val1 = input(\"Keyword: \")\n",
    "key = val1.split(\" \")\n",
    "keyword = '%20'.join(['%-2s' % (i,) for i in key])\n",
    "\n",
    "val = input(\"Which company would you like to search \")\n",
    "\n",
    "#open files in writing mode\n",
    "f = open(\"{}.txt\".format(val1), \"w\")\n",
    "f_title = open(\"{}.txt\".format(val), 'w')\n",
    "\n",
    "def request_data(url):\n",
    "    reqs = requests.get(url)\n",
    "    soup = BeautifulSoup(reqs.text, \"html.parser\")\n",
    "    return soup\n",
    "\n",
    "# create a list of all pages of search results\n",
    "url_list = []\n",
    "for i in range(96):\n",
    "    text = \"{}\".format(i)\n",
    "    urls = 'https://www.fincen.gov/search/node?keys=' + keyword +\"&page=\" + text\n",
    "    url_list.append(urls)\n",
    "\n",
    "title_list = []\n",
    "for urls in url_list:\n",
    "    soup = request_data(urls)\n",
    "\n",
    "    for links in soup.find_all('a'):\n",
    "        data = links.get('href')\n",
    "        if data != None:\n",
    "            if \"www.fincen\" in data:\n",
    "                soup_data = request_data(data)\n",
    "                title = soup_data.find_all('title')\n",
    "                for i in title:\n",
    "                    if val in i.text:\n",
    "                        f_title.write(i.text+\"\\n\")\n",
    "                        f_title.write(data+\"\\n\")\n",
    "\n",
    "if os.path.getsize('{}.txt'.format(val))==0:\n",
    "    f_title.write(\"No result.\")\n",
    "\n",
    "if os.path.getsize(\"{}.txt\".format(val1))==0:\n",
    "    f.write(\"No result.\")\n",
    "\n",
    "f.close()\n",
    "f_title.close()\n",
    "\n",
    "\n",
    "\n",
    "\n",
    "\n"
   ]
  },
  {
   "cell_type": "code",
   "execution_count": null,
   "metadata": {},
   "outputs": [],
   "source": []
  },
  {
   "cell_type": "code",
   "execution_count": null,
   "metadata": {},
   "outputs": [],
   "source": []
  },
  {
   "cell_type": "code",
   "execution_count": null,
   "metadata": {},
   "outputs": [],
   "source": []
  }
 ],
 "metadata": {
  "kernelspec": {
   "display_name": "Python 3",
   "language": "python",
   "name": "python3"
  },
  "language_info": {
   "codemirror_mode": {
    "name": "ipython",
    "version": 3
   },
   "file_extension": ".py",
   "mimetype": "text/x-python",
   "name": "python",
   "nbconvert_exporter": "python",
   "pygments_lexer": "ipython3",
   "version": "3.8.5"
  }
 },
 "nbformat": 4,
 "nbformat_minor": 4
}
