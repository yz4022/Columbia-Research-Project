{
 "cells": [
  {
   "cell_type": "code",
   "execution_count": 36,
   "metadata": {},
   "outputs": [
    {
     "name": "stdout",
     "output_type": "stream",
     "text": [
      "Keyword:money laundering TD bank\n"
     ]
    }
   ],
   "source": [
    "# extract all the links of related violation\n",
    "import requests\n",
    "from bs4 import BeautifulSoup\n",
    "import json\n",
    "\n",
    "val1 = input(\"Keyword:\")\n",
    "key = val1.split(\" \")\n",
    "keyword = '%20'.join(['%-2s' % (i,) for i in key])\n",
    "\n",
    "# opening a file in write mode\n",
    "f = open(\"{}.txt\".format(val1), \"w\")\n",
    "\n",
    "def request_data(url):\n",
    "    reqs = requests.get(url)\n",
    "    soup = BeautifulSoup(reqs.text, \"html.parser\")\n",
    "    return soup\n",
    "\n",
    "url_list = []\n",
    "for i in range(2):\n",
    "    text = \"{}\".format(i)\n",
    "    urls = 'https://www.fincen.gov/search/node?keys=' + keyword +\"&page=\" + text\n",
    "    url_list.append(urls)\n",
    "\n",
    "for urls in url_list:\n",
    "    soup = request_data(urls)\n",
    "    for links in soup.find_all('a'):\n",
    "        data = links.get('href')\n",
    "        if data != None:\n",
    "            if \"www.fincen\" in data:\n",
    "                f.write(data)\n",
    "                f.write(\"\\n\")\n",
    "                \n",
    "f.close()  \n"
   ]
  },
  {
   "cell_type": "code",
   "execution_count": null,
   "metadata": {},
   "outputs": [],
   "source": []
  },
  {
   "cell_type": "code",
   "execution_count": null,
   "metadata": {},
   "outputs": [],
   "source": []
  },
  {
   "cell_type": "code",
   "execution_count": null,
   "metadata": {},
   "outputs": [],
   "source": []
  },
  {
   "cell_type": "code",
   "execution_count": null,
   "metadata": {},
   "outputs": [],
   "source": []
  }
 ],
 "metadata": {
  "kernelspec": {
   "display_name": "Python 3",
   "language": "python",
   "name": "python3"
  },
  "language_info": {
   "codemirror_mode": {
    "name": "ipython",
    "version": 3
   },
   "file_extension": ".py",
   "mimetype": "text/x-python",
   "name": "python",
   "nbconvert_exporter": "python",
   "pygments_lexer": "ipython3",
   "version": "3.8.5"
  }
 },
 "nbformat": 4,
 "nbformat_minor": 4
}
