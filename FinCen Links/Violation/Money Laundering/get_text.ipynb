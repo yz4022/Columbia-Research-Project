{
 "cells": [
  {
   "cell_type": "code",
   "execution_count": 79,
   "metadata": {},
   "outputs": [
    {
     "name": "stdout",
     "output_type": "stream",
     "text": [
      "For which file would you like to check? consent order Pacific National Bank, Miami, Florida\n"
     ]
    }
   ],
   "source": [
    "import requests\n",
    "from bs4 import BeautifulSoup\n",
    "import os.path\n",
    "\n",
    "val1 = input(\"For which file would you like to check? \")\n",
    "f = open('{}.txt'.format(val1),'r')\n",
    "f_text = open('{}_text.txt'.format(val1),'w')\n",
    "\n",
    "def request_data(url):\n",
    "    reqs = requests.get(url)\n",
    "    soup = BeautifulSoup(reqs.text, \"html.parser\")\n",
    "    return soup\n",
    "\n",
    "content = f.read()\n",
    "content_list = content.split(\"\\n\")\n",
    "\n",
    "for link in content_list:\n",
    "    if link:\n",
    "        f_text.write(\"Content\\n\")\n",
    "        soup = request_data(link)\n",
    "        text = soup.find('div', class_ = \"content\")\n",
    "        if text:\n",
    "            f_text.write(text.get_text())\n",
    "            f_text.write(\"\\n\")\n",
    "            f_text.write(\"\\n\")\n",
    "\n",
    "\n",
    "f.close()\n",
    "f_text.close()"
   ]
  },
  {
   "cell_type": "code",
   "execution_count": null,
   "metadata": {},
   "outputs": [],
   "source": []
  },
  {
   "cell_type": "code",
   "execution_count": null,
   "metadata": {},
   "outputs": [],
   "source": []
  },
  {
   "cell_type": "code",
   "execution_count": null,
   "metadata": {},
   "outputs": [],
   "source": []
  },
  {
   "cell_type": "code",
   "execution_count": null,
   "metadata": {},
   "outputs": [],
   "source": []
  }
 ],
 "metadata": {
  "kernelspec": {
   "display_name": "Python 3",
   "language": "python",
   "name": "python3"
  },
  "language_info": {
   "codemirror_mode": {
    "name": "ipython",
    "version": 3
   },
   "file_extension": ".py",
   "mimetype": "text/x-python",
   "name": "python",
   "nbconvert_exporter": "python",
   "pygments_lexer": "ipython3",
   "version": "3.8.5"
  }
 },
 "nbformat": 4,
 "nbformat_minor": 4
}
