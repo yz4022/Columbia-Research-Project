{
 "cells": [
  {
   "cell_type": "code",
   "execution_count": 13,
   "metadata": {},
   "outputs": [],
   "source": [
    "import requests\n",
    "from bs4 import BeautifulSoup\n",
    "f = open(\"Western Union.txt\",'r')\n",
    "f1 = open(\"Western Union M&A.txt\",'w')\n",
    "content = f.read()\n",
    "content_list = content.split(\"\\n\")\n",
    "content_list_new = []\n",
    "\n",
    "for i in content_list:\n",
    "    if 'premerger' in i:\n",
    "        content_list_new.append(i)\n",
    "\n",
    "for i in content_list_new:\n",
    "    f1.write(i+\"\\n\")\n",
    "\n",
    "        \n",
    "    "
   ]
  },
  {
   "cell_type": "code",
   "execution_count": null,
   "metadata": {},
   "outputs": [],
   "source": []
  }
 ],
 "metadata": {
  "kernelspec": {
   "display_name": "Python 3",
   "language": "python",
   "name": "python3"
  },
  "language_info": {
   "codemirror_mode": {
    "name": "ipython",
    "version": 3
   },
   "file_extension": ".py",
   "mimetype": "text/x-python",
   "name": "python",
   "nbconvert_exporter": "python",
   "pygments_lexer": "ipython3",
   "version": "3.8.5"
  }
 },
 "nbformat": 4,
 "nbformat_minor": 4
}
