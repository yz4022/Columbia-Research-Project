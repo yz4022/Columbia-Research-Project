{
 "cells": [
  {
   "cell_type": "code",
   "execution_count": 13,
   "metadata": {},
   "outputs": [],
   "source": [
    "import requests\n",
    "from bs4 import BeautifulSoup\n",
    "f = open(\"Western Union.txt\",'r')\n",
    "f1 = open(\"Western Union M&A.txt\",'w')\n",
    "content = f.read()\n",
    "content_list = content.split(\"\\n\")\n",
    "content_list_new = []\n",
    "\n",
    "for i in content_list:\n",
    "    if 'premerger' in i:\n",
    "        content_list_new.append(i)\n",
    "\n",
    "for i in content_list_new:\n",
    "    f1.write(i+\"\\n\")\n",
    "\n",
    "        \n",
    "    "
   ]
  },
  {
   "cell_type": "code",
   "execution_count": 30,
   "metadata": {},
   "outputs": [],
   "source": [
    "import dateutil.parser as dparser\n",
    "f2 = open(\"/Users/esther/Desktop/Columbia-Research-Project/FTC Links/premerger.txt\",'r')\n",
    "content = f2.read()\n",
    "content_list = content.split(\"\\n\")\n",
    "f3 = open(\"date.txt\",'w')\n",
    "def request_data(url):\n",
    "    reqs = requests.get(url)\n",
    "    soup = BeautifulSoup(reqs.text, \"html.parser\")\n",
    "    return soup\n",
    "\n",
    "\n",
    "for i in content_list:\n",
    "    soup = request_data(i)\n",
    "    for links in soup.find_all('time'):\n",
    "        f3.write(links.get_text()+\"\\n\")\n",
    "        \n",
    "    \n",
    "        \n",
    "    "
   ]
  },
  {
   "cell_type": "code",
   "execution_count": 65,
   "metadata": {},
   "outputs": [],
   "source": [
    "import requests\n",
    "from bs4 import BeautifulSoup\n",
    "import numpy as np\n",
    "import pandas as pd\n",
    "f = open(\"JMP table.txt\",'w')\n",
    "symbol = []\n",
    "company = []\n",
    "date = []\n",
    "estimate = []\n",
    "Eps = []\n",
    "surprise = []\n",
    "page = requests.get(\"https://finance.yahoo.com/calendar/earnings?day=2021-02-25&symbol=C\")\n",
    "soup = BeautifulSoup(page.text, 'html.parser')\n",
    "data = soup.find_all(\"tbody\")\n",
    "for i in data:\n",
    "    table1 = i.find_all('tr')\n",
    "    for j in range(len(table1)):\n",
    "        table1_td = table1[j].find_all('td')\n",
    "        Symbol = table1_td[0].text\n",
    "        symbol.append(Symbol)\n",
    "        Company = table1_td[1].text\n",
    "        company.append(Company)\n",
    "        Date = table1_td[2].text\n",
    "        date.append(Date)\n",
    "        EPS_Estimate = table1_td[3].text\n",
    "        estimate.append(EPS_Estimate)\n",
    "        Reported_EPS = table1_td[4].text\n",
    "        Eps.append(Reported_EPS)\n",
    "        Surprise = table1_td[5].text\n",
    "        surprise.append(Surprise)\n",
    "      \n",
    "df = pd.DataFrame(\n",
    "    {'Symbol': symbol,\n",
    "     'Company': company,\n",
    "     'Date': date,\n",
    "     'EPS_Estimate':estimate,\n",
    "     'Reported_EPS':Eps,\n",
    "     'Surprise (%)':surprise\n",
    "    })\n",
    "df.to_csv('C.csv', index=False)  "
   ]
  },
  {
   "cell_type": "code",
   "execution_count": null,
   "metadata": {},
   "outputs": [],
   "source": []
  }
 ],
 "metadata": {
  "kernelspec": {
   "display_name": "Python 3",
   "language": "python",
   "name": "python3"
  },
  "language_info": {
   "codemirror_mode": {
    "name": "ipython",
    "version": 3
   },
   "file_extension": ".py",
   "mimetype": "text/x-python",
   "name": "python",
   "nbconvert_exporter": "python",
   "pygments_lexer": "ipython3",
   "version": "3.8.5"
  }
 },
 "nbformat": 4,
 "nbformat_minor": 4
}
