{
 "cells": [
  {
   "cell_type": "code",
   "execution_count": 2,
   "metadata": {},
   "outputs": [],
   "source": [
    "import numpy as np\n",
    "import pandas as pd\n",
    "import datetime"
   ]
  },
  {
   "cell_type": "code",
   "execution_count": 7,
   "metadata": {},
   "outputs": [
    {
     "name": "stdout",
     "output_type": "stream",
     "text": [
      "[]\n"
     ]
    }
   ],
   "source": [
    "x = [1,2,3,4,5,6]\n",
    "cumsum = np.cumsum(np.insert(x,0,0))\n",
    "print(cumsum[10:]-cumsum[:-10]/float(10))"
   ]
  },
  {
   "cell_type": "code",
   "execution_count": 16,
   "metadata": {},
   "outputs": [
    {
     "name": "stdout",
     "output_type": "stream",
     "text": [
      "     0\n",
      "0  1.0\n",
      "1  2.0\n",
      "2  3.0\n",
      "3  4.0\n",
      "4  5.0\n",
      "5  6.0\n"
     ]
    }
   ],
   "source": [
    "data = [1,2,3,4,5,6]\n",
    "d = pd.DataFrame(data)\n",
    "print(d.rolling(1).mean())"
   ]
  },
  {
   "cell_type": "code",
   "execution_count": 18,
   "metadata": {},
   "outputs": [
    {
     "name": "stdout",
     "output_type": "stream",
     "text": [
      "['Oct-14', 'Nov-14', 'Dec-14', 'Jan-15', 'Feb-15', 'Mar-15', 'Apr-15', 'May-15', 'Jun-15', 'Jul-15', 'Aug-15', 'Sep-15', 'Oct-15', 'Nov-15', 'Dec-15', 'Jan-16']\n"
     ]
    }
   ],
   "source": [
    "from datetime import datetime as dt\n",
    "sd = dt.strptime('2014-10-10', \"%Y-%m-%d\") \n",
    "ed = dt.strptime('2016-01-07', \"%Y-%m-%d\") \n",
    "\n",
    "lst = [dt.strptime('%2.2d-%2.2d' % (y, m), '%Y-%m').strftime('%b-%y')\n",
    "    for y in range(sd.year, ed.year+1)\n",
    "    for m in range(sd.month if y==sd.year else 1, ed.month+1 if y == ed.year else 13)]\n",
    "\n",
    "print(lst)"
   ]
  },
  {
   "cell_type": "code",
   "execution_count": 16,
   "metadata": {
    "scrolled": true
   },
   "outputs": [
    {
     "ename": "ValueError",
     "evalue": "Length of values (72) does not match length of index (70)",
     "output_type": "error",
     "traceback": [
      "\u001b[0;31m---------------------------------------------------------------------------\u001b[0m",
      "\u001b[0;31mValueError\u001b[0m                                Traceback (most recent call last)",
      "\u001b[0;32m<ipython-input-16-234251081791>\u001b[0m in \u001b[0;36m<module>\u001b[0;34m\u001b[0m\n\u001b[1;32m     49\u001b[0m     \u001b[0mmonth\u001b[0m\u001b[0;34m.\u001b[0m\u001b[0mappend\u001b[0m\u001b[0;34m(\u001b[0m\u001b[0mm1\u001b[0m\u001b[0;34m)\u001b[0m\u001b[0;34m\u001b[0m\u001b[0;34m\u001b[0m\u001b[0m\n\u001b[1;32m     50\u001b[0m     \u001b[0mmonth\u001b[0m\u001b[0;34m.\u001b[0m\u001b[0mappend\u001b[0m\u001b[0;34m(\u001b[0m\u001b[0mm2\u001b[0m\u001b[0;34m)\u001b[0m\u001b[0;34m\u001b[0m\u001b[0;34m\u001b[0m\u001b[0m\n\u001b[0;32m---> 51\u001b[0;31m \u001b[0mdf1\u001b[0m\u001b[0;34m[\u001b[0m\u001b[0;34m\"month\"\u001b[0m\u001b[0;34m]\u001b[0m \u001b[0;34m=\u001b[0m \u001b[0mmonth\u001b[0m\u001b[0;34m\u001b[0m\u001b[0;34m\u001b[0m\u001b[0m\n\u001b[0m\u001b[1;32m     52\u001b[0m \u001b[0mprint\u001b[0m\u001b[0;34m(\u001b[0m\u001b[0mdf1\u001b[0m\u001b[0;34m)\u001b[0m\u001b[0;34m\u001b[0m\u001b[0;34m\u001b[0m\u001b[0m\n\u001b[1;32m     53\u001b[0m \u001b[0;34m\u001b[0m\u001b[0m\n",
      "\u001b[0;32m~/opt/anaconda3/lib/python3.8/site-packages/pandas/core/frame.py\u001b[0m in \u001b[0;36m__setitem__\u001b[0;34m(self, key, value)\u001b[0m\n\u001b[1;32m   3038\u001b[0m         \u001b[0;32melse\u001b[0m\u001b[0;34m:\u001b[0m\u001b[0;34m\u001b[0m\u001b[0;34m\u001b[0m\u001b[0m\n\u001b[1;32m   3039\u001b[0m             \u001b[0;31m# set column\u001b[0m\u001b[0;34m\u001b[0m\u001b[0;34m\u001b[0m\u001b[0;34m\u001b[0m\u001b[0m\n\u001b[0;32m-> 3040\u001b[0;31m             \u001b[0mself\u001b[0m\u001b[0;34m.\u001b[0m\u001b[0m_set_item\u001b[0m\u001b[0;34m(\u001b[0m\u001b[0mkey\u001b[0m\u001b[0;34m,\u001b[0m \u001b[0mvalue\u001b[0m\u001b[0;34m)\u001b[0m\u001b[0;34m\u001b[0m\u001b[0;34m\u001b[0m\u001b[0m\n\u001b[0m\u001b[1;32m   3041\u001b[0m \u001b[0;34m\u001b[0m\u001b[0m\n\u001b[1;32m   3042\u001b[0m     \u001b[0;32mdef\u001b[0m \u001b[0m_setitem_slice\u001b[0m\u001b[0;34m(\u001b[0m\u001b[0mself\u001b[0m\u001b[0;34m,\u001b[0m \u001b[0mkey\u001b[0m\u001b[0;34m:\u001b[0m \u001b[0mslice\u001b[0m\u001b[0;34m,\u001b[0m \u001b[0mvalue\u001b[0m\u001b[0;34m)\u001b[0m\u001b[0;34m:\u001b[0m\u001b[0;34m\u001b[0m\u001b[0;34m\u001b[0m\u001b[0m\n",
      "\u001b[0;32m~/opt/anaconda3/lib/python3.8/site-packages/pandas/core/frame.py\u001b[0m in \u001b[0;36m_set_item\u001b[0;34m(self, key, value)\u001b[0m\n\u001b[1;32m   3114\u001b[0m         \"\"\"\n\u001b[1;32m   3115\u001b[0m         \u001b[0mself\u001b[0m\u001b[0;34m.\u001b[0m\u001b[0m_ensure_valid_index\u001b[0m\u001b[0;34m(\u001b[0m\u001b[0mvalue\u001b[0m\u001b[0;34m)\u001b[0m\u001b[0;34m\u001b[0m\u001b[0;34m\u001b[0m\u001b[0m\n\u001b[0;32m-> 3116\u001b[0;31m         \u001b[0mvalue\u001b[0m \u001b[0;34m=\u001b[0m \u001b[0mself\u001b[0m\u001b[0;34m.\u001b[0m\u001b[0m_sanitize_column\u001b[0m\u001b[0;34m(\u001b[0m\u001b[0mkey\u001b[0m\u001b[0;34m,\u001b[0m \u001b[0mvalue\u001b[0m\u001b[0;34m)\u001b[0m\u001b[0;34m\u001b[0m\u001b[0;34m\u001b[0m\u001b[0m\n\u001b[0m\u001b[1;32m   3117\u001b[0m         \u001b[0mNDFrame\u001b[0m\u001b[0;34m.\u001b[0m\u001b[0m_set_item\u001b[0m\u001b[0;34m(\u001b[0m\u001b[0mself\u001b[0m\u001b[0;34m,\u001b[0m \u001b[0mkey\u001b[0m\u001b[0;34m,\u001b[0m \u001b[0mvalue\u001b[0m\u001b[0;34m)\u001b[0m\u001b[0;34m\u001b[0m\u001b[0;34m\u001b[0m\u001b[0m\n\u001b[1;32m   3118\u001b[0m \u001b[0;34m\u001b[0m\u001b[0m\n",
      "\u001b[0;32m~/opt/anaconda3/lib/python3.8/site-packages/pandas/core/frame.py\u001b[0m in \u001b[0;36m_sanitize_column\u001b[0;34m(self, key, value, broadcast)\u001b[0m\n\u001b[1;32m   3762\u001b[0m \u001b[0;34m\u001b[0m\u001b[0m\n\u001b[1;32m   3763\u001b[0m             \u001b[0;31m# turn me into an ndarray\u001b[0m\u001b[0;34m\u001b[0m\u001b[0;34m\u001b[0m\u001b[0;34m\u001b[0m\u001b[0m\n\u001b[0;32m-> 3764\u001b[0;31m             \u001b[0mvalue\u001b[0m \u001b[0;34m=\u001b[0m \u001b[0msanitize_index\u001b[0m\u001b[0;34m(\u001b[0m\u001b[0mvalue\u001b[0m\u001b[0;34m,\u001b[0m \u001b[0mself\u001b[0m\u001b[0;34m.\u001b[0m\u001b[0mindex\u001b[0m\u001b[0;34m)\u001b[0m\u001b[0;34m\u001b[0m\u001b[0;34m\u001b[0m\u001b[0m\n\u001b[0m\u001b[1;32m   3765\u001b[0m             \u001b[0;32mif\u001b[0m \u001b[0;32mnot\u001b[0m \u001b[0misinstance\u001b[0m\u001b[0;34m(\u001b[0m\u001b[0mvalue\u001b[0m\u001b[0;34m,\u001b[0m \u001b[0;34m(\u001b[0m\u001b[0mnp\u001b[0m\u001b[0;34m.\u001b[0m\u001b[0mndarray\u001b[0m\u001b[0;34m,\u001b[0m \u001b[0mIndex\u001b[0m\u001b[0;34m)\u001b[0m\u001b[0;34m)\u001b[0m\u001b[0;34m:\u001b[0m\u001b[0;34m\u001b[0m\u001b[0;34m\u001b[0m\u001b[0m\n\u001b[1;32m   3766\u001b[0m                 \u001b[0;32mif\u001b[0m \u001b[0misinstance\u001b[0m\u001b[0;34m(\u001b[0m\u001b[0mvalue\u001b[0m\u001b[0;34m,\u001b[0m \u001b[0mlist\u001b[0m\u001b[0;34m)\u001b[0m \u001b[0;32mand\u001b[0m \u001b[0mlen\u001b[0m\u001b[0;34m(\u001b[0m\u001b[0mvalue\u001b[0m\u001b[0;34m)\u001b[0m \u001b[0;34m>\u001b[0m \u001b[0;36m0\u001b[0m\u001b[0;34m:\u001b[0m\u001b[0;34m\u001b[0m\u001b[0;34m\u001b[0m\u001b[0m\n",
      "\u001b[0;32m~/opt/anaconda3/lib/python3.8/site-packages/pandas/core/internals/construction.py\u001b[0m in \u001b[0;36msanitize_index\u001b[0;34m(data, index)\u001b[0m\n\u001b[1;32m    745\u001b[0m     \"\"\"\n\u001b[1;32m    746\u001b[0m     \u001b[0;32mif\u001b[0m \u001b[0mlen\u001b[0m\u001b[0;34m(\u001b[0m\u001b[0mdata\u001b[0m\u001b[0;34m)\u001b[0m \u001b[0;34m!=\u001b[0m \u001b[0mlen\u001b[0m\u001b[0;34m(\u001b[0m\u001b[0mindex\u001b[0m\u001b[0;34m)\u001b[0m\u001b[0;34m:\u001b[0m\u001b[0;34m\u001b[0m\u001b[0;34m\u001b[0m\u001b[0m\n\u001b[0;32m--> 747\u001b[0;31m         raise ValueError(\n\u001b[0m\u001b[1;32m    748\u001b[0m             \u001b[0;34m\"Length of values \"\u001b[0m\u001b[0;34m\u001b[0m\u001b[0;34m\u001b[0m\u001b[0m\n\u001b[1;32m    749\u001b[0m             \u001b[0;34mf\"({len(data)}) \"\u001b[0m\u001b[0;34m\u001b[0m\u001b[0;34m\u001b[0m\u001b[0m\n",
      "\u001b[0;31mValueError\u001b[0m: Length of values (72) does not match length of index (70)"
     ]
    }
   ],
   "source": [
    "df = pd.read_csv(\"/Users/esther/Desktop/Columbia-Research-Project/Yahoo Finance/BAC1.csv\")\n",
    "Comp = df[\"Company\"]\n",
    "company = Comp[1]\n",
    "Sym = df[\"Symbol\"]\n",
    "symbol = Sym[1]\n",
    "\n",
    "\n",
    "c1 = df[\"Surprise (%)\"]\n",
    "c2 = []\n",
    "for i in c1:\n",
    "    if i ==\"-\":\n",
    "        c2.append(0)\n",
    "    else:\n",
    "        c2.append(float(i))\n",
    "df[\"Surprise (%)\"] =c2\n",
    "\n",
    "c4 = []\n",
    "c3 = df[\"Reported_EPS\"]\n",
    "for i in c3:\n",
    "    if i ==\"-\":\n",
    "        c4.append(0)\n",
    "    else:\n",
    "        c4.append(float(i))\n",
    "df[\"Reported_EPS\"] =c4\n",
    "\n",
    "c5 = df[\"EPS_Estimate\"]\n",
    "c6 = []\n",
    "for i in c5:\n",
    "    if i ==\"-\":\n",
    "        c6.append(0)\n",
    "    else:\n",
    "        c6.append(float(i))\n",
    "df[\"EPS_Estimate\"] = c6\n",
    "\n",
    "Es = []\n",
    "for i in range(len(c6)-1):\n",
    "    inc = (c6[i+1] - c6[i])/4\n",
    "    m1 = c6[i] + inc\n",
    "    for i in range(4):\n",
    "        m1 = m1 + inc\n",
    "        Es.append(\"{0:.3f}\".format(m1))\n",
    "\n",
    "month = []\n",
    "df.Date=pd.to_datetime(df.Date,format=\"%Y/%m/%d\")\n",
    "for i in df.Date:\n",
    "    m1 = i-datetime.timedelta(days=30)\n",
    "    m2 = m1 - datetime.timedelta(days=30)\n",
    "    month.append(i)\n",
    "    month.append(m1)\n",
    "    month.append(m2)\n",
    "\n",
    "\n",
    "\n",
    "c7 = df1[\"EPS_Estimate\"]\n",
    "c8 = []\n",
    "for i in c7:\n",
    "    c8.append(\"{0:.3f}\".format(i))\n",
    "df1[\"EPS_Estimate\"] = c8\n",
    "\n",
    "c9 = df1[\"Reported_EPS\"]\n",
    "c10 = []\n",
    "for i in c9:\n",
    "    c10.append(\"{0:.3f}\".format(i))\n",
    "df1[\"Reported_EPS\"] = c10\n",
    "\n",
    "c11 = df1[\"Surprise (%)\"]\n",
    "c12 = []\n",
    "for i in c11:\n",
    "    c12.append(\"{0:.3f}\".format(i))\n",
    "df1[\"Surprise (%)\"] = c12\n",
    "df1[\"Company\"] = [company] * len(df1)\n",
    "df1[\"Symbol\"] = [symbol] * len(df1)\n",
    "df1.to_csv(\"/Users/esther/Desktop/Columbia-Research-Project/Yahoo Finance/BAC2.csv\")\n",
    "\n"
   ]
  },
  {
   "cell_type": "code",
   "execution_count": 79,
   "metadata": {},
   "outputs": [],
   "source": [
    "df = pd.read_csv(\"/Users/esther/Desktop/Columbia-Research-Project/Yahoo Finance/WU1.csv\")\n",
    "\n",
    "#Convert str into float\n",
    "c1 = df[\"Surprise (%)\"]\n",
    "c2 = []\n",
    "for i in c1:\n",
    "    if i ==\"-\":\n",
    "        c2.append(0)\n",
    "    else:\n",
    "        c2.append(float(i))\n",
    "df[\"Surprise (%)\"] =c2\n",
    "\n",
    "c4 = []\n",
    "c3 = df[\"Reported_EPS\"]\n",
    "for i in c3:\n",
    "    if i ==\"-\":\n",
    "        c4.append(0)\n",
    "    else:\n",
    "        c4.append(float(i))\n",
    "df[\"Reported_EPS\"] =c4\n",
    "\n",
    "\n",
    "c5 = df[\"EPS_Estimate\"]\n",
    "c6 = []\n",
    "for i in c5:\n",
    "    if i ==\"-\":\n",
    "        c6.append(0)\n",
    "    else:\n",
    "        c6.append(float(i))\n",
    "df[\"EPS_Estimate\"] = c6\n",
    "\n",
    "#Create Month\n",
    "month = []\n",
    "df.Date=pd.to_datetime(df.Date,format=\"%Y/%m/%d\")\n",
    "for i in range(len(df.Date)):\n",
    "    month.append(df.Date[i])\n",
    "    m1 = df.Date[i] - datetime.timedelta(days=30)\n",
    "    m2 = m1 - datetime.timedelta(days=30)\n",
    "    month.append(m1)\n",
    "    month.append(m2)\n",
    "\n",
    "    \n",
    "#Create EPS_Estimate\n",
    "Es = []\n",
    "for i in range(len(c6)-1):\n",
    "    inc = (c6[i+1] - c6[i])/3\n",
    "    m1 = c6[i] + inc\n",
    "    m2 = m1 + inc\n",
    "    Es.append(\"{0:.3f}\".format(c6[i]))\n",
    "    Es.append(\"{0:.3f}\".format(m1))\n",
    "    Es.append(\"{0:.3f}\".format(m2))\n",
    "Es.append(c6[-1])\n",
    "\n",
    "\n",
    "#Create Reported_EPS\n",
    "Re = []\n",
    "for i in range(len(c4)-1):\n",
    "    inc = (c4[i+1] - c4[i])/3\n",
    "    m1 = c4[i] + inc\n",
    "    m2 = m1 + inc\n",
    "    Re.append(\"{0:.3f}\".format(c4[i]))\n",
    "    Re.append(\"{0:.3f}\".format(m1))\n",
    "    Re.append(\"{0:.3f}\".format(m2))\n",
    "Re.append(c4[-1])\n",
    "\n",
    "\n",
    "#Create Surprise\n",
    "Sur = []\n",
    "for i in range(len(c2)-1):\n",
    "    inc = (c2[i+1] - c2[i])/3\n",
    "    m1 = c2[i] + inc\n",
    "    m2 = m1 + inc\n",
    "    Sur.append(\"{0:.3f}\".format(c2[i]))\n",
    "    Sur.append(\"{0:.3f}\".format(m1))\n",
    "    Sur.append(\"{0:.3f}\".format(m2))\n",
    "Sur.append(c2[-1])\n",
    "\n",
    "#Create Symbol and Company\n",
    "Comp = df[\"Company\"]\n",
    "company = Comp[0]\n",
    "Com = [company]*(len(month)-2)\n",
    "Symb = df[\"Symbol\"]\n",
    "symbol = Symb[0]\n",
    "Sym = [symbol]*(len(month)-2)\n",
    "\n",
    "#Create a dataframe\n",
    "d = {\"Symbol\":Sym,\"Company\":Com,'month': month[0:len(month)-2],\"EPS_Estimate\":Es,\"Reported_EPS\":Re,\"Surprise (%)\":Sur}\n",
    "df1 = pd.DataFrame(d)\n",
    "df1.to_csv(\"/Users/esther/Desktop/Columbia-Research-Project/Yahoo Finance/WU2.csv\")\n",
    "    \n",
    "    "
   ]
  },
  {
   "cell_type": "code",
   "execution_count": null,
   "metadata": {},
   "outputs": [],
   "source": []
  }
 ],
 "metadata": {
  "kernelspec": {
   "display_name": "Python 3",
   "language": "python",
   "name": "python3"
  },
  "language_info": {
   "codemirror_mode": {
    "name": "ipython",
    "version": 3
   },
   "file_extension": ".py",
   "mimetype": "text/x-python",
   "name": "python",
   "nbconvert_exporter": "python",
   "pygments_lexer": "ipython3",
   "version": "3.8.5"
  }
 },
 "nbformat": 4,
 "nbformat_minor": 4
}
