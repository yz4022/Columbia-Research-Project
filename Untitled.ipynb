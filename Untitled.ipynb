{
 "cells": [
  {
   "cell_type": "code",
   "execution_count": 10,
   "metadata": {},
   "outputs": [
    {
     "name": "stdout",
     "output_type": "stream",
     "text": [
      "Which company would you like to search Capital One\n",
      "FinCEN Announces $390,000,000 Enforcement Action Against Capital One, National Association for Violations of the Bank Secrecy Act | FinCEN.gov\n"
     ]
    }
   ],
   "source": [
    "import requests\n",
    "from bs4 import BeautifulSoup\n",
    "\n",
    "# opening a file in write mode\n",
    "val = input(\"Which company would you like to search \")\n",
    "key = \"money laundering\"\n",
    "f = open(\"{}.txt\".format(\"Money Laundering\"), \"w\")\n",
    "f_title = open(\"{}.txt\".format(val), 'w')\n",
    "\n",
    "def request_data(url):\n",
    "    reqs = requests.get(url)\n",
    "    soup = BeautifulSoup(reqs.text, \"html.parser\")\n",
    "    return soup\n",
    "\n",
    "# create a list of all pages of search results\n",
    "url_list = []\n",
    "for i in range(10):\n",
    "    text = \"{}\".format(i)\n",
    "    urls = 'https://www.fincen.gov/search/node?keys=money%20laundering&page=' + text\n",
    "    url_list.append(urls)\n",
    "\n",
    "title_list = []\n",
    "for urls in url_list:\n",
    "    soup = request_data(urls)\n",
    "\n",
    "    for links in soup.find_all('a'):\n",
    "        data = links.get('href')\n",
    "        if data != None:\n",
    "            if \"www.fincen\" in data:\n",
    "                soup_data = request_data(data)\n",
    "                title = soup_data.find_all('title')\n",
    "                for i in title:\n",
    "                    if val in i.text:\n",
    "                        f_title.write(i.text+\"\\n\")\n",
    "                        f_title.write(data+\"\\n\")\n",
    "                        print(i.text)\n",
    "\n",
    "f.close()\n",
    "f_title.close()\n",
    "\n",
    "\n",
    "\n",
    "\n",
    "\n"
   ]
  },
  {
   "cell_type": "code",
   "execution_count": null,
   "metadata": {},
   "outputs": [],
   "source": []
  },
  {
   "cell_type": "code",
   "execution_count": null,
   "metadata": {},
   "outputs": [],
   "source": []
  },
  {
   "cell_type": "code",
   "execution_count": null,
   "metadata": {},
   "outputs": [],
   "source": []
  }
 ],
 "metadata": {
  "kernelspec": {
   "display_name": "Python 3",
   "language": "python",
   "name": "python3"
  },
  "language_info": {
   "codemirror_mode": {
    "name": "ipython",
    "version": 3
   },
   "file_extension": ".py",
   "mimetype": "text/x-python",
   "name": "python",
   "nbconvert_exporter": "python",
   "pygments_lexer": "ipython3",
   "version": "3.8.5"
  }
 },
 "nbformat": 4,
 "nbformat_minor": 4
}
