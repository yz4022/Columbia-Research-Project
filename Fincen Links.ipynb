{
 "cells": [
  {
   "cell_type": "code",
   "execution_count": 37,
   "metadata": {},
   "outputs": [
    {
     "name": "stdout",
     "output_type": "stream",
     "text": [
      "Keyword:fb\n",
      "[<li class=\"pager__item pager__item--last\">\n",
      "<a href=\"?keys=money%20laundering&amp;page=94\" rel=\"last\" title=\"Go to last page\">\n",
      "<span class=\"visually-hidden\">Last page</span>\n",
      "<span aria-hidden=\"true\">last</span>\n",
      "</a>\n",
      "</li>]\n"
     ]
    }
   ],
   "source": [
    "# extract all the links of related violation\n",
    "import requests\n",
    "from bs4 import BeautifulSoup\n",
    "import json\n",
    "\n",
    "val1 = input(\"Keyword:\")\n",
    "key = val1.split(\" \")\n",
    "keyword = '%20'.join(['%-2s' % (i,) for i in key])\n",
    "\n",
    "# opening a file in write mode\n",
    "f = open(\"{}.txt\".format(val1), \"w\")\n",
    "def request_data(url):\n",
    "    reqs = requests.get(url)\n",
    "    soup = BeautifulSoup(reqs.text, \"html.parser\")\n",
    "    return soup\n",
    "\n",
    "response = requests.get(\"https://www.fincen.gov/search/node?keys=money%20laundering&page=7\")\n",
    "soup = BeautifulSoup(response.text,'lxml')\n",
    "pages = soup.select('li[class=\"pager__item pager__item--last\"]')\n",
    "print(pages)\n",
    "\n",
    "\n",
    "\n",
    "url_list = []\n",
    "for i in range(2):\n",
    "    text = \"{}\".format(i)\n",
    "    urls = 'https://www.fincen.gov/search/node?keys=' + keyword +\"&page=\" + text\n",
    "    url_list.append(urls)\n",
    "\n",
    "for urls in url_list:\n",
    "    soup = request_data(urls)\n",
    "    for links in soup.find_all('a'):\n",
    "        data = links.get('href')\n",
    "        if data != None:\n",
    "            if \"www.fincen\" in data:\n",
    "                f.write(data)\n",
    "                f.write(\"\\n\")\n",
    "                \n",
    "f.close()  \n"
   ]
  },
  {
   "cell_type": "code",
   "execution_count": null,
   "metadata": {},
   "outputs": [],
   "source": []
  },
  {
   "cell_type": "code",
   "execution_count": null,
   "metadata": {},
   "outputs": [],
   "source": []
  },
  {
   "cell_type": "code",
   "execution_count": null,
   "metadata": {},
   "outputs": [],
   "source": []
  },
  {
   "cell_type": "code",
   "execution_count": null,
   "metadata": {},
   "outputs": [],
   "source": []
  }
 ],
 "metadata": {
  "kernelspec": {
   "display_name": "Python 3",
   "language": "python",
   "name": "python3"
  }
 },
 "nbformat": 4,
 "nbformat_minor": 4
}
